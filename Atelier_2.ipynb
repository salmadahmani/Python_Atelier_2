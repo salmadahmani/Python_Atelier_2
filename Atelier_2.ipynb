{
  "nbformat": 4,
  "nbformat_minor": 0,
  "metadata": {
    "colab": {
      "provenance": []
    },
    "kernelspec": {
      "name": "python3",
      "display_name": "Python 3"
    },
    "language_info": {
      "name": "python"
    }
  },
  "cells": [
    {
      "cell_type": "code",
      "execution_count": null,
      "metadata": {
        "id": "7lYhZc3ExYjy"
      },
      "outputs": [],
      "source": []
    },
    {
      "cell_type": "markdown",
      "source": [
        "exercice 1:Créer une liste en choisissant des éléments d'index impair dans la première liste et des\n",
        "éléments d'index pair dans la seconde.\n",
        "Étant donné deux listes, l1 et l2, écrivez un programme pour créer une troisième liste l3 en\n",
        "choisissant un élément d'indice impair dans la liste l1 et des éléments d'indice pair dans la liste l2"
      ],
      "metadata": {
        "id": "_02JtHKRxbrD"
      }
    },
    {
      "cell_type": "code",
      "source": [
        "l1=[3, 6, 9, 12, 15, 18, 21]\n",
        "l2=[4, 8,12, 16, 20, 24, 28] \n",
        "L1=[l1[i] for i in range(len(l1))  if i % 2!=0]\n",
        "L2=[l2[i] for i in range(len(l2)) if i % 2==0]\n",
        "L=L1+L2\n",
        "print(L)"
      ],
      "metadata": {
        "id": "nojAtYdwx_r-"
      },
      "execution_count": null,
      "outputs": []
    },
    {
      "cell_type": "markdown",
      "source": [
        "exircece 2:Deviser la liste en 3 morceaux égaux et inverser chaque morceau"
      ],
      "metadata": {
        "id": "NCiQk_99yP14"
      }
    },
    {
      "cell_type": "code",
      "source": [
        "liste = [11,45,8,23,14,12,78,45,12]\n",
        "a=liste[:3]\n",
        "print (a)\n",
        "b=liste[3:6]\n",
        "print(b)\n",
        "c=liste[6:]\n",
        "print(c)\n",
        "a.reverse()\n",
        "print(a)\n",
        "b.reverse()\n",
        "print(b)\n",
        "c.reverse()\n",
        "print(c)"
      ],
      "metadata": {
        "id": "CcCMNXLAyhH0"
      },
      "execution_count": null,
      "outputs": []
    },
    {
      "cell_type": "markdown",
      "source": [
        "exercice 3:Écrire un programme pour itérer une liste donnée et compter l'occurrence de chaque élément et\n",
        "créer un dictionnaire pour montrer le nombre de chaque élément."
      ],
      "metadata": {
        "id": "3i9FPQxWzW4f"
      }
    },
    {
      "cell_type": "code",
      "source": [
        "liste = [11,45,8,23,45,23,45,89] \n",
        "print({k:liste.count(k) for k in liste})"
      ],
      "metadata": {
        "id": "emYl_mzizsGz"
      },
      "execution_count": null,
      "outputs": []
    },
    {
      "cell_type": "markdown",
      "source": [
        "exercice 4:liste =Trouver l'intersection (commune) de deux Sets et supprimez ces éléments du premier Set"
      ],
      "metadata": {
        "id": "9XvqPApt0AwS"
      }
    },
    {
      "cell_type": "code",
      "source": [
        "set1={23, 42, 65, 57, 78, 83, 29}\n",
        "set2={57, 83, 29, 67, 73, 43, 48}\n",
        "intersection=set(set1 & set2)\n",
        "print(\"intersection :\",intersection)\n",
        "\n",
        "for k in intersection:\n",
        "    set1.remove(k)\n",
        "print(\"Set 1 après suppression:\", set1)\n"
      ],
      "metadata": {
        "id": "45zf10s90Y-r"
      },
      "execution_count": null,
      "outputs": []
    },
    {
      "cell_type": "markdown",
      "source": [
        "exercice 5:Itérer une liste donnée et vérifier si un élément donné existe en tant que valeur de clé dans\n",
        "un dictionnaire. Sinon, supprimez-le de la liste"
      ],
      "metadata": {
        "id": "kZGWHfTJ0f1p"
      }
    },
    {
      "cell_type": "code",
      "source": [
        "liste=[47, 64, 69, 37, 76, 83, 95, 97]\n",
        "dictionnaire={'Yassine':47, 'Imane':69, 'Mohammed':76, 'Abir':97}\n",
        "list=[value for value in liste if value in dictionnaire.values()]\n",
        "print(list)"
      ],
      "metadata": {
        "id": "IY2cWZ3a06jc"
      },
      "execution_count": null,
      "outputs": []
    },
    {
      "cell_type": "markdown",
      "source": [],
      "metadata": {
        "id": "JHHCdruexaXZ"
      }
    }
  ]
}